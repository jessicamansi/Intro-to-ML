{
 "cells": [
  {
   "cell_type": "markdown",
   "id": "067df639",
   "metadata": {
    "papermill": {
     "duration": 0.005776,
     "end_time": "2023-06-30T16:20:32.379366",
     "exception": false,
     "start_time": "2023-06-30T16:20:32.373590",
     "status": "completed"
    },
    "tags": []
   },
   "source": [
    "**This notebook is an exercise in the [Introduction to Machine Learning](https://www.kaggle.com/learn/intro-to-machine-learning) course.  You can reference the tutorial at [this link](https://www.kaggle.com/dansbecker/your-first-machine-learning-model).**\n",
    "\n",
    "---\n"
   ]
  },
  {
   "cell_type": "markdown",
   "id": "204a3bc2",
   "metadata": {
    "papermill": {
     "duration": 0.004699,
     "end_time": "2023-06-30T16:20:32.389311",
     "exception": false,
     "start_time": "2023-06-30T16:20:32.384612",
     "status": "completed"
    },
    "tags": []
   },
   "source": [
    "## Recap\n",
    "So far, you have loaded your data and reviewed it with the following code. Run this cell to set up your coding environment where the previous step left off."
   ]
  },
  {
   "cell_type": "code",
   "execution_count": 1,
   "id": "f51bbd91",
   "metadata": {
    "execution": {
     "iopub.execute_input": "2023-06-30T16:20:32.401975Z",
     "iopub.status.busy": "2023-06-30T16:20:32.401404Z",
     "iopub.status.idle": "2023-06-30T16:20:34.359533Z",
     "shell.execute_reply": "2023-06-30T16:20:34.358209Z"
    },
    "papermill": {
     "duration": 1.968119,
     "end_time": "2023-06-30T16:20:34.362477",
     "exception": false,
     "start_time": "2023-06-30T16:20:32.394358",
     "status": "completed"
    },
    "tags": []
   },
   "outputs": [
    {
     "name": "stdout",
     "output_type": "stream",
     "text": [
      "Setup Complete\n"
     ]
    }
   ],
   "source": [
    "# Code you have previously used to load data\n",
    "import pandas as pd\n",
    "\n",
    "# Path of the file to read\n",
    "iowa_file_path = '../input/home-data-for-ml-course/train.csv'\n",
    "\n",
    "home_data = pd.read_csv(iowa_file_path)\n",
    "\n",
    "# Set up code checking\n",
    "from learntools.core import binder\n",
    "binder.bind(globals())\n",
    "from learntools.machine_learning.ex3 import *\n",
    "\n",
    "print(\"Setup Complete\")"
   ]
  },
  {
   "cell_type": "markdown",
   "id": "d2deb3be",
   "metadata": {
    "papermill": {
     "duration": 0.00597,
     "end_time": "2023-06-30T16:20:34.374582",
     "exception": false,
     "start_time": "2023-06-30T16:20:34.368612",
     "status": "completed"
    },
    "tags": []
   },
   "source": [
    "# Exercises\n",
    "\n",
    "## Step 1: Specify Prediction Target\n",
    "Select the target variable, which corresponds to the sales price. Save this to a new variable called `y`. You'll need to print a list of the columns to find the name of the column you need.\n"
   ]
  },
  {
   "cell_type": "code",
   "execution_count": 2,
   "id": "bbfc1a27",
   "metadata": {
    "execution": {
     "iopub.execute_input": "2023-06-30T16:20:34.389398Z",
     "iopub.status.busy": "2023-06-30T16:20:34.387829Z",
     "iopub.status.idle": "2023-06-30T16:20:34.395403Z",
     "shell.execute_reply": "2023-06-30T16:20:34.394084Z"
    },
    "papermill": {
     "duration": 0.018108,
     "end_time": "2023-06-30T16:20:34.398086",
     "exception": false,
     "start_time": "2023-06-30T16:20:34.379978",
     "status": "completed"
    },
    "tags": []
   },
   "outputs": [
    {
     "name": "stdout",
     "output_type": "stream",
     "text": [
      "Index(['Id', 'MSSubClass', 'MSZoning', 'LotFrontage', 'LotArea', 'Street',\n",
      "       'Alley', 'LotShape', 'LandContour', 'Utilities', 'LotConfig',\n",
      "       'LandSlope', 'Neighborhood', 'Condition1', 'Condition2', 'BldgType',\n",
      "       'HouseStyle', 'OverallQual', 'OverallCond', 'YearBuilt', 'YearRemodAdd',\n",
      "       'RoofStyle', 'RoofMatl', 'Exterior1st', 'Exterior2nd', 'MasVnrType',\n",
      "       'MasVnrArea', 'ExterQual', 'ExterCond', 'Foundation', 'BsmtQual',\n",
      "       'BsmtCond', 'BsmtExposure', 'BsmtFinType1', 'BsmtFinSF1',\n",
      "       'BsmtFinType2', 'BsmtFinSF2', 'BsmtUnfSF', 'TotalBsmtSF', 'Heating',\n",
      "       'HeatingQC', 'CentralAir', 'Electrical', '1stFlrSF', '2ndFlrSF',\n",
      "       'LowQualFinSF', 'GrLivArea', 'BsmtFullBath', 'BsmtHalfBath', 'FullBath',\n",
      "       'HalfBath', 'BedroomAbvGr', 'KitchenAbvGr', 'KitchenQual',\n",
      "       'TotRmsAbvGrd', 'Functional', 'Fireplaces', 'FireplaceQu', 'GarageType',\n",
      "       'GarageYrBlt', 'GarageFinish', 'GarageCars', 'GarageArea', 'GarageQual',\n",
      "       'GarageCond', 'PavedDrive', 'WoodDeckSF', 'OpenPorchSF',\n",
      "       'EnclosedPorch', '3SsnPorch', 'ScreenPorch', 'PoolArea', 'PoolQC',\n",
      "       'Fence', 'MiscFeature', 'MiscVal', 'MoSold', 'YrSold', 'SaleType',\n",
      "       'SaleCondition', 'SalePrice'],\n",
      "      dtype='object')\n"
     ]
    }
   ],
   "source": [
    "# print the list of columns in the dataset to find the name of the prediction target\n",
    "print(home_data.columns)"
   ]
  },
  {
   "cell_type": "code",
   "execution_count": 3,
   "id": "e44cc629",
   "metadata": {
    "execution": {
     "iopub.execute_input": "2023-06-30T16:20:34.413813Z",
     "iopub.status.busy": "2023-06-30T16:20:34.412829Z",
     "iopub.status.idle": "2023-06-30T16:20:34.431367Z",
     "shell.execute_reply": "2023-06-30T16:20:34.430474Z"
    },
    "papermill": {
     "duration": 0.030339,
     "end_time": "2023-06-30T16:20:34.433971",
     "exception": false,
     "start_time": "2023-06-30T16:20:34.403632",
     "status": "completed"
    },
    "tags": []
   },
   "outputs": [
    {
     "data": {
      "application/javascript": [
       "parent.postMessage({\"jupyterEvent\": \"custom.exercise_interaction\", \"data\": {\"outcomeType\": 1, \"valueTowardsCompletion\": 0.25, \"interactionType\": 1, \"questionType\": 2, \"questionId\": \"1_SetTarget\", \"learnToolsVersion\": \"0.3.4\", \"failureMessage\": \"\", \"exceptionClass\": \"\", \"trace\": \"\"}}, \"*\")"
      ],
      "text/plain": [
       "<IPython.core.display.Javascript object>"
      ]
     },
     "metadata": {},
     "output_type": "display_data"
    },
    {
     "data": {
      "text/markdown": [
       "<span style=\"color:#33cc33\">Correct</span>"
      ],
      "text/plain": [
       "Correct"
      ]
     },
     "metadata": {},
     "output_type": "display_data"
    }
   ],
   "source": [
    "y = home_data.SalePrice\n",
    "\n",
    "# Check your answer\n",
    "step_1.check()"
   ]
  },
  {
   "cell_type": "code",
   "execution_count": 4,
   "id": "3fc70780",
   "metadata": {
    "execution": {
     "iopub.execute_input": "2023-06-30T16:20:34.449212Z",
     "iopub.status.busy": "2023-06-30T16:20:34.448305Z",
     "iopub.status.idle": "2023-06-30T16:20:34.453604Z",
     "shell.execute_reply": "2023-06-30T16:20:34.452203Z"
    },
    "papermill": {
     "duration": 0.016029,
     "end_time": "2023-06-30T16:20:34.456317",
     "exception": false,
     "start_time": "2023-06-30T16:20:34.440288",
     "status": "completed"
    },
    "tags": []
   },
   "outputs": [],
   "source": [
    "# The lines below will show you a hint or the solution.\n",
    "#step_1.hint() \n",
    "# step_1.solution()"
   ]
  },
  {
   "cell_type": "markdown",
   "id": "eae97412",
   "metadata": {
    "papermill": {
     "duration": 0.005383,
     "end_time": "2023-06-30T16:20:34.467720",
     "exception": false,
     "start_time": "2023-06-30T16:20:34.462337",
     "status": "completed"
    },
    "tags": []
   },
   "source": [
    "## Step 2: Create X\n",
    "Now you will create a DataFrame called `X` holding the predictive features.\n",
    "\n",
    "Since you want only some columns from the original data, you'll first create a list with the names of the columns you want in `X`.\n",
    "\n",
    "You'll use just the following columns in the list (you can copy and paste the whole list to save some typing, though you'll still need to add quotes):\n",
    "  * LotArea\n",
    "  * YearBuilt\n",
    "  * 1stFlrSF\n",
    "  * 2ndFlrSF\n",
    "  * FullBath\n",
    "  * BedroomAbvGr\n",
    "  * TotRmsAbvGrd\n",
    "\n",
    "After you've created that list of features, use it to create the DataFrame that you'll use to fit the model."
   ]
  },
  {
   "cell_type": "code",
   "execution_count": 5,
   "id": "c842a9c4",
   "metadata": {
    "execution": {
     "iopub.execute_input": "2023-06-30T16:20:34.483045Z",
     "iopub.status.busy": "2023-06-30T16:20:34.482201Z",
     "iopub.status.idle": "2023-06-30T16:20:34.499276Z",
     "shell.execute_reply": "2023-06-30T16:20:34.498168Z"
    },
    "papermill": {
     "duration": 0.027235,
     "end_time": "2023-06-30T16:20:34.501704",
     "exception": false,
     "start_time": "2023-06-30T16:20:34.474469",
     "status": "completed"
    },
    "tags": []
   },
   "outputs": [
    {
     "data": {
      "application/javascript": [
       "parent.postMessage({\"jupyterEvent\": \"custom.exercise_interaction\", \"data\": {\"outcomeType\": 1, \"valueTowardsCompletion\": 0.25, \"interactionType\": 1, \"questionType\": 2, \"questionId\": \"2_SelectPredictionData\", \"learnToolsVersion\": \"0.3.4\", \"failureMessage\": \"\", \"exceptionClass\": \"\", \"trace\": \"\"}}, \"*\")"
      ],
      "text/plain": [
       "<IPython.core.display.Javascript object>"
      ]
     },
     "metadata": {},
     "output_type": "display_data"
    },
    {
     "data": {
      "text/markdown": [
       "<span style=\"color:#33cc33\">Correct</span>"
      ],
      "text/plain": [
       "Correct"
      ]
     },
     "metadata": {},
     "output_type": "display_data"
    }
   ],
   "source": [
    "# Create the list of features below\n",
    "feature_names = ['LotArea', 'YearBuilt', '1stFlrSF', '2ndFlrSF', 'FullBath', 'BedroomAbvGr', 'TotRmsAbvGrd']\n",
    "\n",
    "# Select data corresponding to features in feature_names\n",
    "X = home_data[feature_names]\n",
    "\n",
    "# Check your answer\n",
    "step_2.check()"
   ]
  },
  {
   "cell_type": "code",
   "execution_count": 6,
   "id": "16a7c615",
   "metadata": {
    "execution": {
     "iopub.execute_input": "2023-06-30T16:20:34.516331Z",
     "iopub.status.busy": "2023-06-30T16:20:34.515194Z",
     "iopub.status.idle": "2023-06-30T16:20:34.520299Z",
     "shell.execute_reply": "2023-06-30T16:20:34.519191Z"
    },
    "papermill": {
     "duration": 0.015077,
     "end_time": "2023-06-30T16:20:34.522802",
     "exception": false,
     "start_time": "2023-06-30T16:20:34.507725",
     "status": "completed"
    },
    "tags": []
   },
   "outputs": [],
   "source": [
    "# step_2.hint()\n",
    "#step_2.solution()"
   ]
  },
  {
   "cell_type": "markdown",
   "id": "daa53f4c",
   "metadata": {
    "papermill": {
     "duration": 0.00622,
     "end_time": "2023-06-30T16:20:34.535126",
     "exception": false,
     "start_time": "2023-06-30T16:20:34.528906",
     "status": "completed"
    },
    "tags": []
   },
   "source": [
    "## Review Data\n",
    "Before building a model, take a quick look at **X** to verify it looks sensible"
   ]
  },
  {
   "cell_type": "code",
   "execution_count": 7,
   "id": "cd7e3891",
   "metadata": {
    "execution": {
     "iopub.execute_input": "2023-06-30T16:20:34.551086Z",
     "iopub.status.busy": "2023-06-30T16:20:34.549931Z",
     "iopub.status.idle": "2023-06-30T16:20:34.593627Z",
     "shell.execute_reply": "2023-06-30T16:20:34.591783Z"
    },
    "papermill": {
     "duration": 0.055398,
     "end_time": "2023-06-30T16:20:34.596532",
     "exception": false,
     "start_time": "2023-06-30T16:20:34.541134",
     "status": "completed"
    },
    "tags": []
   },
   "outputs": [
    {
     "name": "stdout",
     "output_type": "stream",
     "text": [
      "             LotArea    YearBuilt     1stFlrSF     2ndFlrSF     FullBath  \\\n",
      "count    1460.000000  1460.000000  1460.000000  1460.000000  1460.000000   \n",
      "mean    10516.828082  1971.267808  1162.626712   346.992466     1.565068   \n",
      "std      9981.264932    30.202904   386.587738   436.528436     0.550916   \n",
      "min      1300.000000  1872.000000   334.000000     0.000000     0.000000   \n",
      "25%      7553.500000  1954.000000   882.000000     0.000000     1.000000   \n",
      "50%      9478.500000  1973.000000  1087.000000     0.000000     2.000000   \n",
      "75%     11601.500000  2000.000000  1391.250000   728.000000     2.000000   \n",
      "max    215245.000000  2010.000000  4692.000000  2065.000000     3.000000   \n",
      "\n",
      "       BedroomAbvGr  TotRmsAbvGrd  \n",
      "count   1460.000000   1460.000000  \n",
      "mean       2.866438      6.517808  \n",
      "std        0.815778      1.625393  \n",
      "min        0.000000      2.000000  \n",
      "25%        2.000000      5.000000  \n",
      "50%        3.000000      6.000000  \n",
      "75%        3.000000      7.000000  \n",
      "max        8.000000     14.000000  \n",
      "   LotArea  YearBuilt  1stFlrSF  2ndFlrSF  FullBath  BedroomAbvGr  \\\n",
      "0     8450       2003       856       854         2             3   \n",
      "1     9600       1976      1262         0         2             3   \n",
      "2    11250       2001       920       866         2             3   \n",
      "3     9550       1915       961       756         1             3   \n",
      "4    14260       2000      1145      1053         2             4   \n",
      "\n",
      "   TotRmsAbvGrd  \n",
      "0             8  \n",
      "1             6  \n",
      "2             6  \n",
      "3             7  \n",
      "4             9  \n"
     ]
    }
   ],
   "source": [
    "# Review data\n",
    "# print description or statistics from X\n",
    "print(X.describe())\n",
    "\n",
    "# print the top few lines\n",
    "print(X.head())"
   ]
  },
  {
   "cell_type": "markdown",
   "id": "6124de92",
   "metadata": {
    "papermill": {
     "duration": 0.007813,
     "end_time": "2023-06-30T16:20:34.610925",
     "exception": false,
     "start_time": "2023-06-30T16:20:34.603112",
     "status": "completed"
    },
    "tags": []
   },
   "source": [
    "## Step 3: Specify and Fit Model\n",
    "Create a `DecisionTreeRegressor` and save it iowa_model. Ensure you've done the relevant import from sklearn to run this command.\n",
    "\n",
    "Then fit the model you just created using the data in `X` and `y` that you saved above."
   ]
  },
  {
   "cell_type": "code",
   "execution_count": 8,
   "id": "39792846",
   "metadata": {
    "execution": {
     "iopub.execute_input": "2023-06-30T16:20:34.626529Z",
     "iopub.status.busy": "2023-06-30T16:20:34.625763Z",
     "iopub.status.idle": "2023-06-30T16:20:34.648410Z",
     "shell.execute_reply": "2023-06-30T16:20:34.647247Z"
    },
    "papermill": {
     "duration": 0.034303,
     "end_time": "2023-06-30T16:20:34.651872",
     "exception": false,
     "start_time": "2023-06-30T16:20:34.617569",
     "status": "completed"
    },
    "tags": []
   },
   "outputs": [
    {
     "data": {
      "application/javascript": [
       "parent.postMessage({\"jupyterEvent\": \"custom.exercise_interaction\", \"data\": {\"outcomeType\": 1, \"valueTowardsCompletion\": 0.25, \"interactionType\": 1, \"questionType\": 2, \"questionId\": \"3_CreateModel\", \"learnToolsVersion\": \"0.3.4\", \"failureMessage\": \"\", \"exceptionClass\": \"\", \"trace\": \"\"}}, \"*\")"
      ],
      "text/plain": [
       "<IPython.core.display.Javascript object>"
      ]
     },
     "metadata": {},
     "output_type": "display_data"
    },
    {
     "data": {
      "text/markdown": [
       "<span style=\"color:#33cc33\">Correct</span>"
      ],
      "text/plain": [
       "Correct"
      ]
     },
     "metadata": {},
     "output_type": "display_data"
    }
   ],
   "source": [
    "from sklearn.tree import DecisionTreeRegressor\n",
    "#specify the model. \n",
    "#For model reproducibility, set a numeric value for random_state when specifying the model\n",
    "iowa_model = DecisionTreeRegressor(random_state=1)\n",
    "\n",
    "# Fit the model\n",
    "iowa_model.fit(X,y)\n",
    "\n",
    "# Check your answer\n",
    "step_3.check()"
   ]
  },
  {
   "cell_type": "code",
   "execution_count": 9,
   "id": "987993fd",
   "metadata": {
    "execution": {
     "iopub.execute_input": "2023-06-30T16:20:34.667362Z",
     "iopub.status.busy": "2023-06-30T16:20:34.666837Z",
     "iopub.status.idle": "2023-06-30T16:20:34.672666Z",
     "shell.execute_reply": "2023-06-30T16:20:34.670863Z"
    },
    "papermill": {
     "duration": 0.016806,
     "end_time": "2023-06-30T16:20:34.675319",
     "exception": false,
     "start_time": "2023-06-30T16:20:34.658513",
     "status": "completed"
    },
    "tags": []
   },
   "outputs": [],
   "source": [
    "# step_3.hint()\n",
    "# step_3.solution()"
   ]
  },
  {
   "cell_type": "markdown",
   "id": "c5eae9cd",
   "metadata": {
    "papermill": {
     "duration": 0.006032,
     "end_time": "2023-06-30T16:20:34.688032",
     "exception": false,
     "start_time": "2023-06-30T16:20:34.682000",
     "status": "completed"
    },
    "tags": []
   },
   "source": [
    "## Step 4: Make Predictions\n",
    "Make predictions with the model's `predict` command using `X` as the data. Save the results to a variable called `predictions`."
   ]
  },
  {
   "cell_type": "code",
   "execution_count": 10,
   "id": "cd6280cf",
   "metadata": {
    "execution": {
     "iopub.execute_input": "2023-06-30T16:20:34.703187Z",
     "iopub.status.busy": "2023-06-30T16:20:34.702000Z",
     "iopub.status.idle": "2023-06-30T16:20:34.717733Z",
     "shell.execute_reply": "2023-06-30T16:20:34.716516Z"
    },
    "papermill": {
     "duration": 0.025638,
     "end_time": "2023-06-30T16:20:34.719928",
     "exception": false,
     "start_time": "2023-06-30T16:20:34.694290",
     "status": "completed"
    },
    "tags": []
   },
   "outputs": [
    {
     "name": "stdout",
     "output_type": "stream",
     "text": [
      "[208500. 181500. 223500. ... 266500. 142125. 147500.]\n"
     ]
    },
    {
     "data": {
      "application/javascript": [
       "parent.postMessage({\"jupyterEvent\": \"custom.exercise_interaction\", \"data\": {\"outcomeType\": 1, \"valueTowardsCompletion\": 0.25, \"interactionType\": 1, \"questionType\": 2, \"questionId\": \"4_MakePredictions\", \"learnToolsVersion\": \"0.3.4\", \"failureMessage\": \"\", \"exceptionClass\": \"\", \"trace\": \"\"}}, \"*\")"
      ],
      "text/plain": [
       "<IPython.core.display.Javascript object>"
      ]
     },
     "metadata": {},
     "output_type": "display_data"
    },
    {
     "data": {
      "text/markdown": [
       "<span style=\"color:#33cc33\">Correct</span>"
      ],
      "text/plain": [
       "Correct"
      ]
     },
     "metadata": {},
     "output_type": "display_data"
    }
   ],
   "source": [
    "predictions = iowa_model.predict(X)\n",
    "print(predictions)\n",
    "\n",
    "# Check your answer\n",
    "step_4.check()"
   ]
  },
  {
   "cell_type": "code",
   "execution_count": 11,
   "id": "43c7332c",
   "metadata": {
    "execution": {
     "iopub.execute_input": "2023-06-30T16:20:34.735993Z",
     "iopub.status.busy": "2023-06-30T16:20:34.734894Z",
     "iopub.status.idle": "2023-06-30T16:20:34.740612Z",
     "shell.execute_reply": "2023-06-30T16:20:34.739392Z"
    },
    "papermill": {
     "duration": 0.016254,
     "end_time": "2023-06-30T16:20:34.742910",
     "exception": false,
     "start_time": "2023-06-30T16:20:34.726656",
     "status": "completed"
    },
    "tags": []
   },
   "outputs": [],
   "source": [
    "#step_4.hint()\n",
    "# step_4.solution()"
   ]
  },
  {
   "cell_type": "markdown",
   "id": "0e54c50a",
   "metadata": {
    "papermill": {
     "duration": 0.006518,
     "end_time": "2023-06-30T16:20:34.756025",
     "exception": false,
     "start_time": "2023-06-30T16:20:34.749507",
     "status": "completed"
    },
    "tags": []
   },
   "source": [
    "## Think About Your Results\n",
    "\n",
    "Use the `head` method to compare the top few predictions to the actual home values (in `y`) for those same homes. Anything surprising?\n"
   ]
  },
  {
   "cell_type": "code",
   "execution_count": 12,
   "id": "b204808e",
   "metadata": {
    "execution": {
     "iopub.execute_input": "2023-06-30T16:20:34.771588Z",
     "iopub.status.busy": "2023-06-30T16:20:34.771175Z",
     "iopub.status.idle": "2023-06-30T16:20:34.775940Z",
     "shell.execute_reply": "2023-06-30T16:20:34.774704Z"
    },
    "papermill": {
     "duration": 0.015417,
     "end_time": "2023-06-30T16:20:34.778177",
     "exception": false,
     "start_time": "2023-06-30T16:20:34.762760",
     "status": "completed"
    },
    "tags": []
   },
   "outputs": [],
   "source": [
    "# You can write code in this cell\n"
   ]
  },
  {
   "cell_type": "markdown",
   "id": "5d501708",
   "metadata": {
    "papermill": {
     "duration": 0.006609,
     "end_time": "2023-06-30T16:20:34.791260",
     "exception": false,
     "start_time": "2023-06-30T16:20:34.784651",
     "status": "completed"
    },
    "tags": []
   },
   "source": [
    "It's natural to ask how accurate the model's predictions will be and how you can improve that. That will be you're next step.\n",
    "\n",
    "# Keep Going\n",
    "\n",
    "You are ready for **[Model Validation](https://www.kaggle.com/dansbecker/model-validation).**\n"
   ]
  },
  {
   "cell_type": "markdown",
   "id": "bcd638fe",
   "metadata": {
    "papermill": {
     "duration": 0.007204,
     "end_time": "2023-06-30T16:20:34.805007",
     "exception": false,
     "start_time": "2023-06-30T16:20:34.797803",
     "status": "completed"
    },
    "tags": []
   },
   "source": [
    "---\n",
    "\n",
    "\n",
    "\n",
    "\n",
    "*Have questions or comments? Visit the [course discussion forum](https://www.kaggle.com/learn/intro-to-machine-learning/discussion) to chat with other learners.*"
   ]
  }
 ],
 "metadata": {
  "kernelspec": {
   "display_name": "Python 3",
   "language": "python",
   "name": "python3"
  },
  "language_info": {
   "codemirror_mode": {
    "name": "ipython",
    "version": 3
   },
   "file_extension": ".py",
   "mimetype": "text/x-python",
   "name": "python",
   "nbconvert_exporter": "python",
   "pygments_lexer": "ipython3",
   "version": "3.10.10"
  },
  "papermill": {
   "default_parameters": {},
   "duration": 15.955271,
   "end_time": "2023-06-30T16:20:36.240773",
   "environment_variables": {},
   "exception": null,
   "input_path": "__notebook__.ipynb",
   "output_path": "__notebook__.ipynb",
   "parameters": {},
   "start_time": "2023-06-30T16:20:20.285502",
   "version": "2.4.0"
  }
 },
 "nbformat": 4,
 "nbformat_minor": 5
}
